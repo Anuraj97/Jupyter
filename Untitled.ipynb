{
 "cells": [
  {
   "cell_type": "code",
   "execution_count": null,
   "id": "bb5d3855-82ed-4622-a8d9-2718e691f06d",
   "metadata": {},
   "outputs": [],
   "source": [
    "import cx_oracle"
   ]
  },
  {
   "cell_type": "code",
   "execution_count": null,
   "id": "8b009627-9605-4e2a-8f36-7d620198987f",
   "metadata": {},
   "outputs": [],
   "source": []
  }
 ],
 "metadata": {
  "kernelspec": {
   "display_name": "Python 3 (ipykernel)",
   "language": "python",
   "name": "python3"
  },
  "language_info": {
   "name": ""
  }
 },
 "nbformat": 4,
 "nbformat_minor": 5
}
