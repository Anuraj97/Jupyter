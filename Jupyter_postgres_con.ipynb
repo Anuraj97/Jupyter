{
 "cells": [
  {
   "cell_type": "code",
   "execution_count": 1,
   "id": "672f78c1-ac40-4be5-b59a-f70958f57498",
   "metadata": {},
   "outputs": [],
   "source": [
    "import sqlalchemy"
   ]
  },
  {
   "cell_type": "code",
   "execution_count": 2,
   "id": "ad4c6ef5-06bc-4f5c-ad04-ca05c3f46b83",
   "metadata": {},
   "outputs": [
    {
     "name": "stdout",
     "output_type": "stream",
     "text": [
      "[(1234, 'HR                                                ', 555), (1236, 'PM                                                ', 556)]\n"
     ]
    }
   ],
   "source": [
    "import psycopg2\n",
    "\n",
    "host = 'localhost'\n",
    "port = '5432'\n",
    "database = 'postgres'\n",
    "user = 'postgres'\n",
    "password = 'root'\n",
    "schema = 'public'\n",
    "table = 'DEPARTMENT'\n",
    "\n",
    "conn = psycopg2.connect(host = host, port = port, database = database, user = user, password = password)\n",
    "cur = conn.cursor()\n",
    "\n",
    "cur.execute(\"SELECT * FROM \"  + schema + \".\" + table)\n",
    "rows = cur.fetchall()\n",
    "print(rows)\n"
   ]
  },
  {
   "cell_type": "code",
   "execution_count": null,
   "id": "7877d836-27ec-48c5-8f29-1e3894cc10c0",
   "metadata": {},
   "outputs": [],
   "source": []
  }
 ],
 "metadata": {
  "kernelspec": {
   "display_name": "Python 3 (ipykernel)",
   "language": "python",
   "name": "python3"
  },
  "language_info": {
   "codemirror_mode": {
    "name": "ipython",
    "version": 3
   },
   "file_extension": ".py",
   "mimetype": "text/x-python",
   "name": "python",
   "nbconvert_exporter": "python",
   "pygments_lexer": "ipython3",
   "version": "3.8.10"
  }
 },
 "nbformat": 4,
 "nbformat_minor": 5
}
